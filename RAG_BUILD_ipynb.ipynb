{
  "cells": [
    {
      "cell_type": "markdown",
      "metadata": {
        "id": "view-in-github",
        "colab_type": "text"
      },
      "source": [
        "<a href=\"https://colab.research.google.com/github/Miftahul-adib/Building-a-RAG-system/blob/main/RAG_BUILD_ipynb.ipynb\" target=\"_parent\"><img src=\"https://colab.research.google.com/assets/colab-badge.svg\" alt=\"Open In Colab\"/></a>"
      ]
    },
    {
      "cell_type": "markdown",
      "source": [
        "# Retrieval-Augmented Generation (RAG) System for Financial Reports"
      ],
      "metadata": {
        "id": "0UNJuLBgsmH9"
      }
    },
    {
      "cell_type": "markdown",
      "metadata": {
        "id": "ig1YhXQEg8IN"
      },
      "source": [
        "\n",
        "# PROJECT OVERVIEW:\n",
        "\n",
        "This project implements a Retrieval-Augmented Generation (RAG) system designed to answer natural language questions from financial reports, specifically based on Meta's Q1 2024 Financial Report\n",
        "\n",
        "\n",
        "| Task                       | Tool/Library            |\n",
        "| -------------------------- | ----------------------- |\n",
        "| PDF Text Extraction        | `PyMuPDF`, `pdfplumber` |\n",
        "| Text Chunking              | `LangChain`             |\n",
        "| Embeddings                 | `sentence-transformers` |\n",
        "| Vector Storage & Retrieval | `FAISS`                 |\n",
        "| Table Extraction           | `pdfplumber`, `pandas`  |\n",
        "| LLM (Answer Generation)    | `Qwen/Qwen3-0.6B' |\n",
        "\n",
        "\n",
        "\n",
        "\n"
      ]
    },
    {
      "cell_type": "markdown",
      "source": [
        "# STEP 1: BUILD A BASIC RAG PIPELINE\n",
        "## Objective: Build a simple RAG pipeline for factual QA from a single financial report."
      ],
      "metadata": {
        "id": "WM8-03aVKlc_"
      }
    },
    {
      "cell_type": "markdown",
      "source": [
        "## Preprocessing: Extract and clean text from PDF.\n"
      ],
      "metadata": {
        "id": "lm0cPiWdKuLX"
      }
    },
    {
      "cell_type": "code",
      "source": [
        "pip install PyMuPDF"
      ],
      "metadata": {
        "colab": {
          "base_uri": "https://localhost:8080/"
        },
        "id": "L53aL7meEXJU",
        "outputId": "9345b5a0-2dc9-49cb-a6f1-635facba24d3"
      },
      "execution_count": 110,
      "outputs": [
        {
          "output_type": "stream",
          "name": "stdout",
          "text": [
            "Requirement already satisfied: PyMuPDF in /usr/local/lib/python3.11/dist-packages (1.26.3)\n"
          ]
        }
      ]
    },
    {
      "cell_type": "code",
      "execution_count": 111,
      "metadata": {
        "id": "GJ3lfvk3hW9j"
      },
      "outputs": [],
      "source": [
        "import fitz\n",
        "\n",
        "def extract_text_from_pdf(path):\n",
        "    doc = fitz.open(path)\n",
        "    text = \"\"\n",
        "    for page in doc:\n",
        "        text += page.get_text()\n",
        "    return text\n",
        "\n",
        "raw_text = extract_text_from_pdf(\"/content/Meta’s Q1 2024 Financial Report.pdf\")\n"
      ]
    },
    {
      "cell_type": "markdown",
      "source": [
        "## Chunking & Embedding: Split into chunks; generate embeddings with an open-source model.\n"
      ],
      "metadata": {
        "id": "PK-6S0f8K_eS"
      }
    },
    {
      "cell_type": "code",
      "execution_count": 113,
      "metadata": {
        "id": "ZVTjijqVivC6"
      },
      "outputs": [],
      "source": [
        "from langchain.text_splitter import RecursiveCharacterTextSplitter\n",
        "\n",
        "splitter = RecursiveCharacterTextSplitter(chunk_size=200, chunk_overlap=200)\n",
        "chunks = splitter.split_text(raw_text)"
      ]
    },
    {
      "cell_type": "code",
      "execution_count": 114,
      "metadata": {
        "colab": {
          "base_uri": "https://localhost:8080/"
        },
        "id": "t3-aGgAQjfVB",
        "outputId": "7b07283e-74ee-43a4-e628-50adafaa8e72"
      },
      "outputs": [
        {
          "output_type": "execute_result",
          "data": {
            "text/plain": [
              "22"
            ]
          },
          "metadata": {},
          "execution_count": 114
        }
      ],
      "source": [
        "len(chunks)"
      ]
    },
    {
      "cell_type": "code",
      "execution_count": 115,
      "metadata": {
        "id": "7Rt3a0Epjgja"
      },
      "outputs": [],
      "source": [
        "from sentence_transformers import SentenceTransformer\n",
        "\n",
        "embedding_model = SentenceTransformer(\"all-MiniLM-L6-v2\")\n",
        "embeddings = embedding_model.encode(chunks)"
      ]
    },
    {
      "cell_type": "code",
      "execution_count": 116,
      "metadata": {
        "colab": {
          "base_uri": "https://localhost:8080/"
        },
        "id": "chmz-b-WlEYt",
        "outputId": "6d4b98c3-cfb7-40d1-bd95-43081dd76619"
      },
      "outputs": [
        {
          "output_type": "stream",
          "name": "stdout",
          "text": [
            "Requirement already satisfied: faiss-cpu in /usr/local/lib/python3.11/dist-packages (1.11.0.post1)\n",
            "Requirement already satisfied: numpy<3.0,>=1.25.0 in /usr/local/lib/python3.11/dist-packages (from faiss-cpu) (2.0.2)\n",
            "Requirement already satisfied: packaging in /usr/local/lib/python3.11/dist-packages (from faiss-cpu) (25.0)\n"
          ]
        }
      ],
      "source": [
        "pip install faiss-cpu\n"
      ]
    },
    {
      "cell_type": "markdown",
      "source": [
        "### Retrieval: Use vector similarity to retrieve top-3 relevant chunks.\n",
        "###### Note:\n",
        "\n",
        "\n",
        "Here I used L2 distance (Euclidean distance). This measures the straight-line distance between vectors in the embedding space.\n"
      ],
      "metadata": {
        "id": "VX3IyxJmLF9P"
      }
    },
    {
      "cell_type": "code",
      "source": [
        "\n",
        "import faiss\n",
        "import numpy as np\n",
        "\n",
        "dimension = embeddings[0].shape[0]\n",
        "index = faiss.IndexFlatL2(dimension)\n",
        "index.add(np.array(embeddings).astype('float32'))\n",
        "\n",
        "\n",
        "query = \"What was Meta’s revenue in Q1 2024?\"\n",
        "query_embedding = embedding_model.encode([query]).astype('float32')\n",
        "top_k = 3\n",
        "D, I = index.search(np.array(query_embedding), top_k)\n",
        "retrieved_chunks = [chunks[i] for i in I[0]]\n",
        "context = \"\\n\".join(retrieved_chunks)"
      ],
      "metadata": {
        "id": "IZxbjsxpVJc1"
      },
      "execution_count": 117,
      "outputs": []
    },
    {
      "cell_type": "code",
      "source": [
        "def remove_newlines(text):\n",
        "    if isinstance(text, list):\n",
        "        text = ' '.join(text)\n",
        "    return text.replace('\\n', ' ')\n",
        "\n",
        "\n",
        "\n",
        "cleaned = remove_newlines(context)\n",
        "print(cleaned)"
      ],
      "metadata": {
        "colab": {
          "base_uri": "https://localhost:8080/"
        },
        "id": "QnV74UGIoRDo",
        "outputId": "df531cef-7b8d-421c-f1a0-2e7b884936ca"
      },
      "execution_count": 118,
      "outputs": [
        {
          "output_type": "stream",
          "name": "stdout",
          "text": [
            "Meta Reports First Quarter 2024 Results MENLO PARK, Calif. – April 24, 2024 – Meta Platforms, Inc. (Nasdaq: META) today reported financial results for the quarter  ended March 31, 2024. \"It's been a good start to the year,\" said Mark Zuckerberg, Meta founder and CEO. \"The new version of Meta AI with Llama 3 is  another step towards building the world's leading AI. We're seeing healthy growth across our apps and we continue making  steady progress building the metaverse as well.\" First Quarter 2024 Financial Highlights Three Months Ended March 31, % Change In millions, except percentages and per share amounts 2024 2023 Revenue $  36,455  $  28,645   27 % Costs and expenses   22,637    21,418   6 % Income from operations $  13,818  $  7,227   91 % Operating margin  38 %  25 % Provision for income taxes $  1,814  $  1,598   14 % Effective tax rate  13 %  22 % Net income $  12,369  $  5,709   117 % Diluted earnings per share (EPS) $  4.71  $  2.20   114 % intended to represent our residual cash flow available for discretionary expenditures.  For more information on our non-GAAP financial measures and a reconciliation of GAAP to non-GAAP measures, please see  the \"Reconciliation of GAAP to Non-GAAP Results\" table in this press release. 4 META PLATFORMS, INC. CONDENSED CONSOLIDATED STATEMENTS OF INCOME (In millions, except per share amounts) (Unaudited) Three Months Ended March 31, 2024 2023 Revenue $  36,455 $  28,645  Costs and expenses: Cost of revenue   6,640   6,108  Research and development   9,978   9,381  Marketing and sales   2,564   3,044  General and administrative   3,455   2,885  Total costs and expenses   22,637   21,418  Income from operations   13,818   7,227  Interest and other income, net   365   80  Income before provision for income taxes   14,183   7,307  Provision for income taxes   1,814   1,598  Net income $  12,369 $  5,709  Earnings per share: Basic $  4.86 $  2.21  Diluted $  4.71 $  2.20 $  33,284 $  12,420  7 META PLATFORMS, INC. CONDENSED CONSOLIDATED STATEMENTS OF CASH FLOWS (In millions) (Unaudited) Three Months Ended March 31, 2024 2023 Supplemental cash flow data Cash paid for income taxes, net $  630 $  405  Cash paid for interest, net of amounts capitalized $  121 $  182  Non-cash investing and financing activities: Property and equipment in accounts payable and accrued expenses and  other current liabilities $  4,217 $  4,466  Acquisition of businesses in accrued expenses and other current liabilities  and other liabilities $  116 $  263  8 Segment Results We report our financial results for our two reportable segments: Family of Apps (FoA) and Reality Labs (RL). FoA includes  Facebook, Instagram, Messenger, WhatsApp, and other services. RL includes our virtual, augmented, and mixed reality related  consumer hardware, software, and content. The following table presents our segment information of revenue and income (loss) from operations: Segment Information\n"
          ]
        }
      ]
    },
    {
      "cell_type": "markdown",
      "source": [
        "# Generation: Answer queries using an open-source LLM"
      ],
      "metadata": {
        "id": "v8GlejLKLsiX"
      }
    },
    {
      "cell_type": "code",
      "source": [
        "from transformers import AutoTokenizer, AutoModelForCausalLM\n",
        "\n",
        "model_name = \"Qwen/Qwen3-0.6B\"\n",
        "\n",
        "tokenizer = AutoTokenizer.from_pretrained(model_name)\n",
        "model = AutoModelForCausalLM.from_pretrained(model_name)\n",
        "\n",
        "\n",
        "if tokenizer.pad_token is None:\n",
        "    tokenizer.pad_token = tokenizer.eos_token\n",
        "\n",
        "context = cleaned\n",
        "\n",
        "prompt = f\"Based on the following context:\\n{context}\\n\\nAnswer the question in **100 words**:\\n{query}\"\n",
        "\n",
        "prompt = prompt.replace(\"’\", \"'\")\n",
        "\n",
        "inputs = tokenizer(prompt, return_tensors=\"pt\", padding=True, truncation=True, max_length=512)\n",
        "\n",
        "outputs = model.generate(\n",
        "    **inputs,\n",
        "    max_new_tokens = 130 ,\n",
        "    do_sample=True,\n",
        "    temperature=0.7,\n",
        "    top_p=0.9,\n",
        "    eos_token_id=tokenizer.eos_token_id,\n",
        "    pad_token_id=tokenizer.pad_token_id,\n",
        ")\n",
        "\n",
        "\n",
        "\n",
        "answer = tokenizer.decode(outputs[0], skip_special_tokens=True)\n",
        "\n",
        "if answer.startswith(prompt):\n",
        "    answer_only = answer[len(prompt):].strip()\n",
        "else:\n",
        "    answer_only = answer.replace(prompt, '', 1).strip()\n",
        "\n",
        "print(\"Answer:\", answer_only)"
      ],
      "metadata": {
        "colab": {
          "base_uri": "https://localhost:8080/"
        },
        "id": "8RuTbDMjLcUm",
        "outputId": "562dca12-f289-4ceb-b881-255794605d95"
      },
      "execution_count": 119,
      "outputs": [
        {
          "output_type": "stream",
          "name": "stdout",
          "text": [
            "Answer: Based on the following context:\n",
            "Meta Reports First Quarter 2024 Results MENLO PARK, Calif. – April 24, 2024 – Meta Platforms, Inc. (Nasdaq: META) today reported financial results for the quarter  ended March 31, 2024. \"It's been a good start to the year,\" said Mark Zuckerberg, Meta founder and CEO. \"The new version of Meta AI with Llama 3 is  another step towards building the world's leading AI. We're seeing healthy growth across our apps and we continue making  steady progress building the metaverse as well.\" First Quarter 2024 Financial Highlights Three Months Ended March 31, % Change In millions, except percentages and per share amounts 2024 2023 Revenue $  36,455  $  28,645   27 % Costs and expenses   22,637    21,418   6 % Income from operations $  13,818  $  7,227   91 % Operating margin  38 %  25 % Provision for income taxes $  1,814  $  1,598   14 % Effective tax rate  13 %  22 % Net income $  12,369  $  5,709   117 % Diluted earnings per share (EPS) $  4.71  $  2.20   114 % intended to represent our residual cash flow available for discretionary expenditures.  For more information on our non-GAAP financial measures and a reconciliation of GAAP to non-GAAP measures, please see  the \"Reconciliation of GAAP to Non-GAAP Results\" table in this press release. 4 META PLATFORMS, INC. CONDENSED CONSOLIDATED STATEMENTS OF INCOME (In millions, except per share amounts) (Unaudited) Three Months Ended March 31, 2024 2023 Revenue $  36,455 $  28,645  Costs and expenses: Cost of revenue   6,640   6,108  Research and development   9,978   8,810  Selling, general, and administrative (SG&A)   2,139   2,139  Other expenses and income   1,022   1,030  Net income from operations $  13,818 $  7,227  Operating margin  38 %  25 %  Provision for income taxes $  1,814 $  1,598  Effective tax rate  13 %  22 %  Net income $  12,3\n"
          ]
        }
      ]
    },
    {
      "cell_type": "markdown",
      "source": [
        "the model is not providing with suitable results.\n"
      ],
      "metadata": {
        "id": "yv3cVLtJ5U9g"
      }
    },
    {
      "cell_type": "code",
      "source": [
        "def get_answer(query):\n",
        "  query = query\n",
        "  query_embedding = embedding_model.encode([query]).astype('float32')\n",
        "\n",
        "  top_k = 3\n",
        "  D, I = index.search(np.array(query_embedding), top_k)\n",
        "  retrieved_chunks = [chunks[i] for i in I[0]]\n",
        "  context = \"\\n\".join(retrieved_chunks)\n",
        "  def remove_newlines(text):\n",
        "    if isinstance(text, list):\n",
        "        text = ' '.join(text)\n",
        "    return text.replace('\\n', ' ')\n",
        "\n",
        "  cleaned = remove_newlines(context)\n",
        "  print(cleaned)\n",
        "  context = cleaned\n",
        "\n",
        "  prompt = f\"Based on the following context:\\n{context}\\n\\nAnswer the question in **100 words**:\\n{query}\"\n",
        "\n",
        "  prompt = prompt.replace(\"’\", \"'\")\n",
        "\n",
        "  inputs = tokenizer(prompt, return_tensors=\"pt\", padding=True, truncation=True, max_length=512)\n",
        "\n",
        "  outputs = model.generate(\n",
        "    **inputs,\n",
        "    max_new_tokens = 130 ,\n",
        "    do_sample=True,\n",
        "    temperature=0.7,\n",
        "    top_p=0.9,\n",
        "    eos_token_id=tokenizer.eos_token_id,\n",
        "    pad_token_id=tokenizer.pad_token_id)\n",
        "\n",
        "  answer = tokenizer.decode(outputs[0], skip_special_tokens=True)\n",
        "  if answer.startswith(prompt):\n",
        "     answer_only = answer[len(prompt):].strip()\n",
        "  else:\n",
        "     answer_only = answer.replace(prompt, '', 1).strip()\n",
        "\n",
        "  print(\"Answer:\", answer_only)\n",
        "\n",
        "\n",
        ""
      ],
      "metadata": {
        "id": "ir8tbCODMYpf"
      },
      "execution_count": 135,
      "outputs": []
    },
    {
      "cell_type": "markdown",
      "source": [
        "# Testing the model"
      ],
      "metadata": {
        "id": "T76fcn3UOYQt"
      }
    },
    {
      "cell_type": "code",
      "source": [
        "query1='What was Meta’s revenue in Q1 2024?'\n",
        "get_answer(query1)"
      ],
      "metadata": {
        "colab": {
          "base_uri": "https://localhost:8080/"
        },
        "id": "t5dkgv3FOeYV",
        "outputId": "5ba68206-7a43-4bc8-fa66-926cba949f80"
      },
      "execution_count": 136,
      "outputs": [
        {
          "output_type": "stream",
          "name": "stdout",
          "text": [
            "Meta Reports First Quarter 2024 Results MENLO PARK, Calif. – April 24, 2024 – Meta Platforms, Inc. (Nasdaq: META) today reported financial results for the quarter  ended March 31, 2024. \"It's been a good start to the year,\" said Mark Zuckerberg, Meta founder and CEO. \"The new version of Meta AI with Llama 3 is  another step towards building the world's leading AI. We're seeing healthy growth across our apps and we continue making  steady progress building the metaverse as well.\" First Quarter 2024 Financial Highlights Three Months Ended March 31, % Change In millions, except percentages and per share amounts 2024 2023 Revenue $  36,455  $  28,645   27 % Costs and expenses   22,637    21,418   6 % Income from operations $  13,818  $  7,227   91 % Operating margin  38 %  25 % Provision for income taxes $  1,814  $  1,598   14 % Effective tax rate  13 %  22 % Net income $  12,369  $  5,709   117 % Diluted earnings per share (EPS) $  4.71  $  2.20   114 % intended to represent our residual cash flow available for discretionary expenditures.  For more information on our non-GAAP financial measures and a reconciliation of GAAP to non-GAAP measures, please see  the \"Reconciliation of GAAP to Non-GAAP Results\" table in this press release. 4 META PLATFORMS, INC. CONDENSED CONSOLIDATED STATEMENTS OF INCOME (In millions, except per share amounts) (Unaudited) Three Months Ended March 31, 2024 2023 Revenue $  36,455 $  28,645  Costs and expenses: Cost of revenue   6,640   6,108  Research and development   9,978   9,381  Marketing and sales   2,564   3,044  General and administrative   3,455   2,885  Total costs and expenses   22,637   21,418  Income from operations   13,818   7,227  Interest and other income, net   365   80  Income before provision for income taxes   14,183   7,307  Provision for income taxes   1,814   1,598  Net income $  12,369 $  5,709  Earnings per share: Basic $  4.86 $  2.21  Diluted $  4.71 $  2.20 $  33,284 $  12,420  7 META PLATFORMS, INC. CONDENSED CONSOLIDATED STATEMENTS OF CASH FLOWS (In millions) (Unaudited) Three Months Ended March 31, 2024 2023 Supplemental cash flow data Cash paid for income taxes, net $  630 $  405  Cash paid for interest, net of amounts capitalized $  121 $  182  Non-cash investing and financing activities: Property and equipment in accounts payable and accrued expenses and  other current liabilities $  4,217 $  4,466  Acquisition of businesses in accrued expenses and other current liabilities  and other liabilities $  116 $  263  8 Segment Results We report our financial results for our two reportable segments: Family of Apps (FoA) and Reality Labs (RL). FoA includes  Facebook, Instagram, Messenger, WhatsApp, and other services. RL includes our virtual, augmented, and mixed reality related  consumer hardware, software, and content. The following table presents our segment information of revenue and income (loss) from operations: Segment Information\n",
            "Answer: Based on the following context:\n",
            "Meta Reports First Quarter 2024 Results MENLO PARK, Calif. – April 24, 2024 – Meta Platforms, Inc. (Nasdaq: META) today reported financial results for the quarter  ended March 31, 2024. \"It's been a good start to the year,\" said Mark Zuckerberg, Meta founder and CEO. \"The new version of Meta AI with Llama 3 is  another step towards building the world's leading AI. We're seeing healthy growth across our apps and we continue making  steady progress building the metaverse as well.\" First Quarter 2024 Financial Highlights Three Months Ended March 31, % Change In millions, except percentages and per share amounts 2024 2023 Revenue $  36,455  $  28,645   27 % Costs and expenses   22,637    21,418   6 % Income from operations $  13,818  $  7,227   91 % Operating margin  38 %  25 % Provision for income taxes $  1,814  $  1,598   14 % Effective tax rate  13 %  22 % Net income $  12,369  $  5,709   117 % Diluted earnings per share (EPS) $  4.71  $  2.20   114 % intended to represent our residual cash flow available for discretionary expenditures.  For more information on our non-GAAP financial measures and a reconciliation of GAAP to non-GAAP measures, please see  the \"Reconciliation of GAAP to Non-GAAP Results\" table in this press release. 4 META PLATFORMS, INC. CONDENSED CONSOLIDATED STATEMENTS OF INCOME (In millions, except per share amounts) (Unaudited) Three Months Ended March 31, 2024 2023 Revenue $  36,455 $  28,645  Costs and expenses: Cost of revenue   6,640   6,108  Research and development   9,978   8,412  Selling, general, and administrative  22,500   21,418  Operating income   25,975   18,558  EBITDA   23,472   16,106  Net income from operations   13,818   7,227  EBITDA margin   66.1 %  50.5 %  Net income from operations  $  12,369  $  5,70\n"
          ]
        }
      ]
    },
    {
      "cell_type": "code",
      "source": [
        "query2='What were the key financial highlights for Meta in Q1 2024?'\n",
        "get_answer(query2)"
      ],
      "metadata": {
        "colab": {
          "base_uri": "https://localhost:8080/"
        },
        "id": "8mo7j0mDOxjB",
        "outputId": "0487f20b-3232-474f-c978-d25589c0e1e8"
      },
      "execution_count": 137,
      "outputs": [
        {
          "output_type": "stream",
          "name": "stdout",
          "text": [
            "Meta Reports First Quarter 2024 Results MENLO PARK, Calif. – April 24, 2024 – Meta Platforms, Inc. (Nasdaq: META) today reported financial results for the quarter  ended March 31, 2024. \"It's been a good start to the year,\" said Mark Zuckerberg, Meta founder and CEO. \"The new version of Meta AI with Llama 3 is  another step towards building the world's leading AI. We're seeing healthy growth across our apps and we continue making  steady progress building the metaverse as well.\" First Quarter 2024 Financial Highlights Three Months Ended March 31, % Change In millions, except percentages and per share amounts 2024 2023 Revenue $  36,455  $  28,645   27 % Costs and expenses   22,637    21,418   6 % Income from operations $  13,818  $  7,227   91 % Operating margin  38 %  25 % Provision for income taxes $  1,814  $  1,598   14 % Effective tax rate  13 %  22 % Net income $  12,369  $  5,709   117 % Diluted earnings per share (EPS) $  4.71  $  2.20   114 % as we invest aggressively to support our ambitious AI research and product development efforts. Absent any changes to our tax landscape, we expect our full-year 2024 tax rate to be in the mid-teens. In addition, we continue to monitor an active regulatory landscape, including the increasing legal and regulatory headwinds in  the EU and the U.S. that could significantly impact our business and our financial results. Q1 was a good start to the year. We're seeing strong momentum within our Family of Apps and are making important progress  on our longer-term AI and Reality Labs initiatives that have the potential to transform the way people interact with our services  over the coming years. 2 Webcast and Conference Call Information Meta will host a conference call to discuss the results at 2:00 p.m. PT / 5:00 p.m. ET today. The live webcast of Meta's earnings the results predicted are more fully detailed under the caption \"Risk Factors\" in our Annual Report on Form 10-K filed with the  SEC on February 2, 2024, which is available on our Investor Relations website at investor.fb.com and on the SEC website at  www.sec.gov. Additional information will also be set forth in our Quarterly Report on Form 10-Q for the quarter ended  March 31, 2024. In addition, please note that the date of this press release is April 24, 2024, and any forward-looking statements  contained herein are based on assumptions that we believe to be reasonable as of this date. We undertake no obligation to update  these statements as a result of new information or future events. For a discussion of limitations in the measurement of certain of our community metrics, see the section entitled \"Limitations of  Key Metrics and Other Data\" in our most recent quarterly or annual report filed with the SEC. Non-GAAP Financial Measures\n",
            "Answer: Based on the following context:\n",
            "Meta Reports First Quarter 2024 Results MENLO PARK, Calif. – April 24, 2024 – Meta Platforms, Inc. (Nasdaq: META) today reported financial results for the quarter  ended March 31, 2024. \"It's been a good start to the year,\" said Mark Zuckerberg, Meta founder and CEO. \"The new version of Meta AI with Llama 3 is  another step towards building the world's leading AI. We're seeing healthy growth across our apps and we continue making  steady progress building the metaverse as well.\" First Quarter 2024 Financial Highlights Three Months Ended March 31, % Change In millions, except percentages and per share amounts 2024 2023 Revenue $  36,455  $  28,645   27 % Costs and expenses   22,637    21,418   6 % Income from operations $  13,818  $  7,227   91 % Operating margin  38 %  25 % Provision for income taxes $  1,814  $  1,598   14 % Effective tax rate  13 %  22 % Net income $  12,369  $  5,709   117 % Diluted earnings per share (EPS) $  4.71  $  2.20   114 % as we invest aggressively to support our ambitious AI research and product development efforts. Absent any changes to our tax landscape, we expect our full-year 2024 tax rate to be in the mid-teens. In addition, we continue to monitor an active regulatory landscape, including the increasing legal and regulatory headwinds in  the EU and the U.S. that could significantly impact our business and our financial results. Q1 was a good start to the year. We're seeing strong momentum within our Family of Apps and are making important progress  on our longer-term AI and Reality Labs initiatives that have the potential to transform the way people interact with our services  over the coming years. 2 Webcast and Conference Call Information Meta will host a conference call to discuss the results at 2:00 PM Eastern Time (ET) on April 24, 2024. The webcast will be available at the following link: https://www.meta.com/external/2024/04/24/240424-1130-1630-2441-2441-2441-2441-2441-2441-2441-2441-2441-2441-2441-2441-2441\n"
          ]
        }
      ]
    },
    {
      "cell_type": "markdown",
      "source": [
        "# STEP 2:Structured Data Integration\n"
      ],
      "metadata": {
        "id": "4cmXsprfguUF"
      }
    },
    {
      "cell_type": "code",
      "source": [
        "pip install tabula-py\n"
      ],
      "metadata": {
        "colab": {
          "base_uri": "https://localhost:8080/"
        },
        "id": "JD4K3haFV0-m",
        "outputId": "372bd3e6-482c-4435-b754-ca932036975f"
      },
      "execution_count": 123,
      "outputs": [
        {
          "output_type": "stream",
          "name": "stdout",
          "text": [
            "Requirement already satisfied: tabula-py in /usr/local/lib/python3.11/dist-packages (2.10.0)\n",
            "Requirement already satisfied: pandas>=0.25.3 in /usr/local/lib/python3.11/dist-packages (from tabula-py) (2.2.2)\n",
            "Requirement already satisfied: numpy>1.24.4 in /usr/local/lib/python3.11/dist-packages (from tabula-py) (2.0.2)\n",
            "Requirement already satisfied: distro in /usr/local/lib/python3.11/dist-packages (from tabula-py) (1.9.0)\n",
            "Requirement already satisfied: python-dateutil>=2.8.2 in /usr/local/lib/python3.11/dist-packages (from pandas>=0.25.3->tabula-py) (2.9.0.post0)\n",
            "Requirement already satisfied: pytz>=2020.1 in /usr/local/lib/python3.11/dist-packages (from pandas>=0.25.3->tabula-py) (2025.2)\n",
            "Requirement already satisfied: tzdata>=2022.7 in /usr/local/lib/python3.11/dist-packages (from pandas>=0.25.3->tabula-py) (2025.2)\n",
            "Requirement already satisfied: six>=1.5 in /usr/local/lib/python3.11/dist-packages (from python-dateutil>=2.8.2->pandas>=0.25.3->tabula-py) (1.17.0)\n"
          ]
        }
      ]
    },
    {
      "cell_type": "code",
      "source": [
        "pip install pdfplumber"
      ],
      "metadata": {
        "colab": {
          "base_uri": "https://localhost:8080/"
        },
        "id": "6vybPdI-QWdy",
        "outputId": "599cfdd5-9d48-406e-9e97-f36b248fda1f"
      },
      "execution_count": 124,
      "outputs": [
        {
          "output_type": "stream",
          "name": "stdout",
          "text": [
            "Requirement already satisfied: pdfplumber in /usr/local/lib/python3.11/dist-packages (0.11.7)\n",
            "Requirement already satisfied: pdfminer.six==20250506 in /usr/local/lib/python3.11/dist-packages (from pdfplumber) (20250506)\n",
            "Requirement already satisfied: Pillow>=9.1 in /usr/local/lib/python3.11/dist-packages (from pdfplumber) (11.3.0)\n",
            "Requirement already satisfied: pypdfium2>=4.18.0 in /usr/local/lib/python3.11/dist-packages (from pdfplumber) (4.30.0)\n",
            "Requirement already satisfied: charset-normalizer>=2.0.0 in /usr/local/lib/python3.11/dist-packages (from pdfminer.six==20250506->pdfplumber) (3.4.2)\n",
            "Requirement already satisfied: cryptography>=36.0.0 in /usr/local/lib/python3.11/dist-packages (from pdfminer.six==20250506->pdfplumber) (43.0.3)\n",
            "Requirement already satisfied: cffi>=1.12 in /usr/local/lib/python3.11/dist-packages (from cryptography>=36.0.0->pdfminer.six==20250506->pdfplumber) (1.17.1)\n",
            "Requirement already satisfied: pycparser in /usr/local/lib/python3.11/dist-packages (from cffi>=1.12->cryptography>=36.0.0->pdfminer.six==20250506->pdfplumber) (2.22)\n"
          ]
        }
      ]
    },
    {
      "cell_type": "markdown",
      "source": [
        "# Table Extraction: Parse tables into structured formats (e.g., DataFrame,JSON)."
      ],
      "metadata": {
        "id": "0RzcVkrQtk4I"
      }
    },
    {
      "cell_type": "code",
      "source": [
        "import pdfplumber\n",
        "import pandas as pd\n",
        "\n",
        "tables = []\n",
        "with pdfplumber.open(\"/content/Meta’s Q1 2024 Financial Report.pdf\") as pdf:\n",
        "    for page in pdf.pages:\n",
        "        page_tables = page.extract_tables()\n",
        "        for table in page_tables:\n",
        "            if table and len(table) > 1:\n",
        "                df = pd.DataFrame(table[1:], columns=table[0])\n",
        "                tables.append(df)"
      ],
      "metadata": {
        "id": "NjX3JcpBQOgs"
      },
      "execution_count": 125,
      "outputs": []
    },
    {
      "cell_type": "code",
      "source": [
        "tables[1]"
      ],
      "metadata": {
        "colab": {
          "base_uri": "https://localhost:8080/",
          "height": 582
        },
        "id": "ljjSHD_tQZXG",
        "outputId": "f324eb7a-04be-48d3-e5d3-6c497927a29a"
      },
      "execution_count": 126,
      "outputs": [
        {
          "output_type": "execute_result",
          "data": {
            "text/plain": [
              "                                              Revenue $ 36,455 $ 28,645\n",
              "0                                 Costs and expenses:                  \n",
              "1                                     Cost of revenue       6,640 6,108\n",
              "2                            Research and development       9,978 9,381\n",
              "3                                 Marketing and sales       2,564 3,044\n",
              "4                          General and administrative       3,455 2,885\n",
              "5                            Total costs and expenses     22,637 21,418\n",
              "6                                                None      13,818 7,227\n",
              "7                      Interest and other income, net            365 80\n",
              "8            Income before provision for income taxes      14,183 7,307\n",
              "9                          Provision for income taxes       1,814 1,598\n",
              "10                                         Net income  $ 12,369 $ 5,709\n",
              "11                                Earnings per share:                  \n",
              "12                                              Basic     $ 4.86 $ 2.21\n",
              "13                                            Diluted     $ 4.71 $ 2.20\n",
              "14  Weighted-average shares used to compute earnin...                  \n",
              "15                                              Basic       2,545 2,587\n",
              "16                                            Diluted       2,625 2,596"
            ],
            "text/html": [
              "\n",
              "  <div id=\"df-157f809a-311c-47df-a294-281705f0b501\" class=\"colab-df-container\">\n",
              "    <div>\n",
              "<style scoped>\n",
              "    .dataframe tbody tr th:only-of-type {\n",
              "        vertical-align: middle;\n",
              "    }\n",
              "\n",
              "    .dataframe tbody tr th {\n",
              "        vertical-align: top;\n",
              "    }\n",
              "\n",
              "    .dataframe thead th {\n",
              "        text-align: right;\n",
              "    }\n",
              "</style>\n",
              "<table border=\"1\" class=\"dataframe\">\n",
              "  <thead>\n",
              "    <tr style=\"text-align: right;\">\n",
              "      <th></th>\n",
              "      <th>Revenue</th>\n",
              "      <th>$ 36,455 $ 28,645</th>\n",
              "    </tr>\n",
              "  </thead>\n",
              "  <tbody>\n",
              "    <tr>\n",
              "      <th>0</th>\n",
              "      <td>Costs and expenses:</td>\n",
              "      <td></td>\n",
              "    </tr>\n",
              "    <tr>\n",
              "      <th>1</th>\n",
              "      <td>Cost of revenue</td>\n",
              "      <td>6,640 6,108</td>\n",
              "    </tr>\n",
              "    <tr>\n",
              "      <th>2</th>\n",
              "      <td>Research and development</td>\n",
              "      <td>9,978 9,381</td>\n",
              "    </tr>\n",
              "    <tr>\n",
              "      <th>3</th>\n",
              "      <td>Marketing and sales</td>\n",
              "      <td>2,564 3,044</td>\n",
              "    </tr>\n",
              "    <tr>\n",
              "      <th>4</th>\n",
              "      <td>General and administrative</td>\n",
              "      <td>3,455 2,885</td>\n",
              "    </tr>\n",
              "    <tr>\n",
              "      <th>5</th>\n",
              "      <td>Total costs and expenses</td>\n",
              "      <td>22,637 21,418</td>\n",
              "    </tr>\n",
              "    <tr>\n",
              "      <th>6</th>\n",
              "      <td>None</td>\n",
              "      <td>13,818 7,227</td>\n",
              "    </tr>\n",
              "    <tr>\n",
              "      <th>7</th>\n",
              "      <td>Interest and other income, net</td>\n",
              "      <td>365 80</td>\n",
              "    </tr>\n",
              "    <tr>\n",
              "      <th>8</th>\n",
              "      <td>Income before provision for income taxes</td>\n",
              "      <td>14,183 7,307</td>\n",
              "    </tr>\n",
              "    <tr>\n",
              "      <th>9</th>\n",
              "      <td>Provision for income taxes</td>\n",
              "      <td>1,814 1,598</td>\n",
              "    </tr>\n",
              "    <tr>\n",
              "      <th>10</th>\n",
              "      <td>Net income</td>\n",
              "      <td>$ 12,369 $ 5,709</td>\n",
              "    </tr>\n",
              "    <tr>\n",
              "      <th>11</th>\n",
              "      <td>Earnings per share:</td>\n",
              "      <td></td>\n",
              "    </tr>\n",
              "    <tr>\n",
              "      <th>12</th>\n",
              "      <td>Basic</td>\n",
              "      <td>$ 4.86 $ 2.21</td>\n",
              "    </tr>\n",
              "    <tr>\n",
              "      <th>13</th>\n",
              "      <td>Diluted</td>\n",
              "      <td>$ 4.71 $ 2.20</td>\n",
              "    </tr>\n",
              "    <tr>\n",
              "      <th>14</th>\n",
              "      <td>Weighted-average shares used to compute earnin...</td>\n",
              "      <td></td>\n",
              "    </tr>\n",
              "    <tr>\n",
              "      <th>15</th>\n",
              "      <td>Basic</td>\n",
              "      <td>2,545 2,587</td>\n",
              "    </tr>\n",
              "    <tr>\n",
              "      <th>16</th>\n",
              "      <td>Diluted</td>\n",
              "      <td>2,625 2,596</td>\n",
              "    </tr>\n",
              "  </tbody>\n",
              "</table>\n",
              "</div>\n",
              "    <div class=\"colab-df-buttons\">\n",
              "\n",
              "  <div class=\"colab-df-container\">\n",
              "    <button class=\"colab-df-convert\" onclick=\"convertToInteractive('df-157f809a-311c-47df-a294-281705f0b501')\"\n",
              "            title=\"Convert this dataframe to an interactive table.\"\n",
              "            style=\"display:none;\">\n",
              "\n",
              "  <svg xmlns=\"http://www.w3.org/2000/svg\" height=\"24px\" viewBox=\"0 -960 960 960\">\n",
              "    <path d=\"M120-120v-720h720v720H120Zm60-500h600v-160H180v160Zm220 220h160v-160H400v160Zm0 220h160v-160H400v160ZM180-400h160v-160H180v160Zm440 0h160v-160H620v160ZM180-180h160v-160H180v160Zm440 0h160v-160H620v160Z\"/>\n",
              "  </svg>\n",
              "    </button>\n",
              "\n",
              "  <style>\n",
              "    .colab-df-container {\n",
              "      display:flex;\n",
              "      gap: 12px;\n",
              "    }\n",
              "\n",
              "    .colab-df-convert {\n",
              "      background-color: #E8F0FE;\n",
              "      border: none;\n",
              "      border-radius: 50%;\n",
              "      cursor: pointer;\n",
              "      display: none;\n",
              "      fill: #1967D2;\n",
              "      height: 32px;\n",
              "      padding: 0 0 0 0;\n",
              "      width: 32px;\n",
              "    }\n",
              "\n",
              "    .colab-df-convert:hover {\n",
              "      background-color: #E2EBFA;\n",
              "      box-shadow: 0px 1px 2px rgba(60, 64, 67, 0.3), 0px 1px 3px 1px rgba(60, 64, 67, 0.15);\n",
              "      fill: #174EA6;\n",
              "    }\n",
              "\n",
              "    .colab-df-buttons div {\n",
              "      margin-bottom: 4px;\n",
              "    }\n",
              "\n",
              "    [theme=dark] .colab-df-convert {\n",
              "      background-color: #3B4455;\n",
              "      fill: #D2E3FC;\n",
              "    }\n",
              "\n",
              "    [theme=dark] .colab-df-convert:hover {\n",
              "      background-color: #434B5C;\n",
              "      box-shadow: 0px 1px 3px 1px rgba(0, 0, 0, 0.15);\n",
              "      filter: drop-shadow(0px 1px 2px rgba(0, 0, 0, 0.3));\n",
              "      fill: #FFFFFF;\n",
              "    }\n",
              "  </style>\n",
              "\n",
              "    <script>\n",
              "      const buttonEl =\n",
              "        document.querySelector('#df-157f809a-311c-47df-a294-281705f0b501 button.colab-df-convert');\n",
              "      buttonEl.style.display =\n",
              "        google.colab.kernel.accessAllowed ? 'block' : 'none';\n",
              "\n",
              "      async function convertToInteractive(key) {\n",
              "        const element = document.querySelector('#df-157f809a-311c-47df-a294-281705f0b501');\n",
              "        const dataTable =\n",
              "          await google.colab.kernel.invokeFunction('convertToInteractive',\n",
              "                                                    [key], {});\n",
              "        if (!dataTable) return;\n",
              "\n",
              "        const docLinkHtml = 'Like what you see? Visit the ' +\n",
              "          '<a target=\"_blank\" href=https://colab.research.google.com/notebooks/data_table.ipynb>data table notebook</a>'\n",
              "          + ' to learn more about interactive tables.';\n",
              "        element.innerHTML = '';\n",
              "        dataTable['output_type'] = 'display_data';\n",
              "        await google.colab.output.renderOutput(dataTable, element);\n",
              "        const docLink = document.createElement('div');\n",
              "        docLink.innerHTML = docLinkHtml;\n",
              "        element.appendChild(docLink);\n",
              "      }\n",
              "    </script>\n",
              "  </div>\n",
              "\n",
              "\n",
              "    <div id=\"df-ee726682-674d-4093-8cd3-90b3f4f7d0b2\">\n",
              "      <button class=\"colab-df-quickchart\" onclick=\"quickchart('df-ee726682-674d-4093-8cd3-90b3f4f7d0b2')\"\n",
              "                title=\"Suggest charts\"\n",
              "                style=\"display:none;\">\n",
              "\n",
              "<svg xmlns=\"http://www.w3.org/2000/svg\" height=\"24px\"viewBox=\"0 0 24 24\"\n",
              "     width=\"24px\">\n",
              "    <g>\n",
              "        <path d=\"M19 3H5c-1.1 0-2 .9-2 2v14c0 1.1.9 2 2 2h14c1.1 0 2-.9 2-2V5c0-1.1-.9-2-2-2zM9 17H7v-7h2v7zm4 0h-2V7h2v10zm4 0h-2v-4h2v4z\"/>\n",
              "    </g>\n",
              "</svg>\n",
              "      </button>\n",
              "\n",
              "<style>\n",
              "  .colab-df-quickchart {\n",
              "      --bg-color: #E8F0FE;\n",
              "      --fill-color: #1967D2;\n",
              "      --hover-bg-color: #E2EBFA;\n",
              "      --hover-fill-color: #174EA6;\n",
              "      --disabled-fill-color: #AAA;\n",
              "      --disabled-bg-color: #DDD;\n",
              "  }\n",
              "\n",
              "  [theme=dark] .colab-df-quickchart {\n",
              "      --bg-color: #3B4455;\n",
              "      --fill-color: #D2E3FC;\n",
              "      --hover-bg-color: #434B5C;\n",
              "      --hover-fill-color: #FFFFFF;\n",
              "      --disabled-bg-color: #3B4455;\n",
              "      --disabled-fill-color: #666;\n",
              "  }\n",
              "\n",
              "  .colab-df-quickchart {\n",
              "    background-color: var(--bg-color);\n",
              "    border: none;\n",
              "    border-radius: 50%;\n",
              "    cursor: pointer;\n",
              "    display: none;\n",
              "    fill: var(--fill-color);\n",
              "    height: 32px;\n",
              "    padding: 0;\n",
              "    width: 32px;\n",
              "  }\n",
              "\n",
              "  .colab-df-quickchart:hover {\n",
              "    background-color: var(--hover-bg-color);\n",
              "    box-shadow: 0 1px 2px rgba(60, 64, 67, 0.3), 0 1px 3px 1px rgba(60, 64, 67, 0.15);\n",
              "    fill: var(--button-hover-fill-color);\n",
              "  }\n",
              "\n",
              "  .colab-df-quickchart-complete:disabled,\n",
              "  .colab-df-quickchart-complete:disabled:hover {\n",
              "    background-color: var(--disabled-bg-color);\n",
              "    fill: var(--disabled-fill-color);\n",
              "    box-shadow: none;\n",
              "  }\n",
              "\n",
              "  .colab-df-spinner {\n",
              "    border: 2px solid var(--fill-color);\n",
              "    border-color: transparent;\n",
              "    border-bottom-color: var(--fill-color);\n",
              "    animation:\n",
              "      spin 1s steps(1) infinite;\n",
              "  }\n",
              "\n",
              "  @keyframes spin {\n",
              "    0% {\n",
              "      border-color: transparent;\n",
              "      border-bottom-color: var(--fill-color);\n",
              "      border-left-color: var(--fill-color);\n",
              "    }\n",
              "    20% {\n",
              "      border-color: transparent;\n",
              "      border-left-color: var(--fill-color);\n",
              "      border-top-color: var(--fill-color);\n",
              "    }\n",
              "    30% {\n",
              "      border-color: transparent;\n",
              "      border-left-color: var(--fill-color);\n",
              "      border-top-color: var(--fill-color);\n",
              "      border-right-color: var(--fill-color);\n",
              "    }\n",
              "    40% {\n",
              "      border-color: transparent;\n",
              "      border-right-color: var(--fill-color);\n",
              "      border-top-color: var(--fill-color);\n",
              "    }\n",
              "    60% {\n",
              "      border-color: transparent;\n",
              "      border-right-color: var(--fill-color);\n",
              "    }\n",
              "    80% {\n",
              "      border-color: transparent;\n",
              "      border-right-color: var(--fill-color);\n",
              "      border-bottom-color: var(--fill-color);\n",
              "    }\n",
              "    90% {\n",
              "      border-color: transparent;\n",
              "      border-bottom-color: var(--fill-color);\n",
              "    }\n",
              "  }\n",
              "</style>\n",
              "\n",
              "      <script>\n",
              "        async function quickchart(key) {\n",
              "          const quickchartButtonEl =\n",
              "            document.querySelector('#' + key + ' button');\n",
              "          quickchartButtonEl.disabled = true;  // To prevent multiple clicks.\n",
              "          quickchartButtonEl.classList.add('colab-df-spinner');\n",
              "          try {\n",
              "            const charts = await google.colab.kernel.invokeFunction(\n",
              "                'suggestCharts', [key], {});\n",
              "          } catch (error) {\n",
              "            console.error('Error during call to suggestCharts:', error);\n",
              "          }\n",
              "          quickchartButtonEl.classList.remove('colab-df-spinner');\n",
              "          quickchartButtonEl.classList.add('colab-df-quickchart-complete');\n",
              "        }\n",
              "        (() => {\n",
              "          let quickchartButtonEl =\n",
              "            document.querySelector('#df-ee726682-674d-4093-8cd3-90b3f4f7d0b2 button');\n",
              "          quickchartButtonEl.style.display =\n",
              "            google.colab.kernel.accessAllowed ? 'block' : 'none';\n",
              "        })();\n",
              "      </script>\n",
              "    </div>\n",
              "\n",
              "    </div>\n",
              "  </div>\n"
            ],
            "application/vnd.google.colaboratory.intrinsic+json": {
              "type": "dataframe",
              "summary": "{\n  \"name\": \"tables[1]\",\n  \"rows\": 17,\n  \"fields\": [\n    {\n      \"column\": \"Revenue\",\n      \"properties\": {\n        \"dtype\": \"string\",\n        \"num_unique_values\": 14,\n        \"samples\": [\n          \"Net income\",\n          \"Basic\",\n          \"Costs and expenses:\"\n        ],\n        \"semantic_type\": \"\",\n        \"description\": \"\"\n      }\n    },\n    {\n      \"column\": \"$ 36,455 $ 28,645\",\n      \"properties\": {\n        \"dtype\": \"string\",\n        \"num_unique_values\": 15,\n        \"samples\": [\n          \"1,814 1,598\",\n          \"$ 4.86 $ 2.21\",\n          \"\"\n        ],\n        \"semantic_type\": \"\",\n        \"description\": \"\"\n      }\n    }\n  ]\n}"
            }
          },
          "metadata": {},
          "execution_count": 126
        }
      ]
    },
    {
      "cell_type": "markdown",
      "source": [
        "# Hybrid Retrieval: Combine vector search (text) + keyword/SQL-like search(structured)."
      ],
      "metadata": {
        "id": "e3KghqHct2gp"
      }
    },
    {
      "cell_type": "code",
      "source": [
        "def search_tables_simple(query, tables):\n",
        "    if not tables:\n",
        "        return None\n",
        "\n",
        "    stop_words = ['what', 'was', 'the', 'in', 'to', 'and', 'or', 'a', 'an', 'is', 'are', 'compared']\n",
        "    words = [word.lower().strip('?.,!') for word in query.split()\n",
        "             if word.lower() not in stop_words and len(word) > 2]\n",
        "\n",
        "    print(f\"Searching for: {words}\")\n",
        "\n",
        "    results = []\n",
        "    for i, table in enumerate(tables):\n",
        "        matching_rows = []\n",
        "\n",
        "\n",
        "        for idx, row in table.iterrows():\n",
        "\n",
        "            row_text = ' '.join(str(val).lower() for val in row.values)\n",
        "\n",
        "\n",
        "            if any(word in row_text for word in words):\n",
        "                matching_rows.append(idx)\n",
        "\n",
        "        if matching_rows:\n",
        "            matches = table.loc[matching_rows]\n",
        "            print(f\"Table {i+1}: {len(matches)} matches\")\n",
        "            results.append((i+1, matches))\n",
        "\n",
        "    return results if results else None\n",
        "\n",
        "\n",
        "question = \"What was Meta's net income in Q1 2024 compared to Q1 2023?\"\n",
        "results = search_tables_simple(question, tables)\n",
        "\n",
        "if results:\n",
        "    for table_num, matches in results:\n",
        "        print(f\"\\n--- Table {table_num} matches ---\")\n",
        "        print(matches)\n",
        "else:\n",
        "    print(\"No matches found\")"
      ],
      "metadata": {
        "colab": {
          "base_uri": "https://localhost:8080/"
        },
        "id": "DoVLRjYwRoa1",
        "outputId": "f8c2ed44-94a2-4402-c9bf-8108c4622088"
      },
      "execution_count": 127,
      "outputs": [
        {
          "output_type": "stream",
          "name": "stdout",
          "text": [
            "Searching for: [\"meta's\", 'net', 'income', '2024', '2023']\n",
            "Table 1: 3 matches\n",
            "Table 2: 4 matches\n",
            "Table 3: 3 matches\n",
            "Table 4: 10 matches\n",
            "Table 5: 2 matches\n",
            "Table 7: 2 matches\n",
            "Table 8: 4 matches\n",
            "\n",
            "--- Table 1 matches ---\n",
            "                    Revenue $ 36,455 $ 28,645 27 %\n",
            "1     Income from operations $ 13,818 $ 7,227 91 %\n",
            "3  Provision for income taxes $ 1,814 $ 1,598 14 %\n",
            "5                Net income $ 12,369 $ 5,709 117 %\n",
            "\n",
            "--- Table 2 matches ---\n",
            "                                     Revenue $ 36,455 $ 28,645\n",
            "7             Interest and other income, net            365 80\n",
            "8   Income before provision for income taxes      14,183 7,307\n",
            "9                 Provision for income taxes       1,814 1,598\n",
            "10                                Net income  $ 12,369 $ 5,709\n",
            "\n",
            "--- Table 3 matches ---\n",
            "                                       Assets\n",
            "3      Accounts receivable, net 13,430 16,169\n",
            "7   Property and equipment, net 98,908 96,587\n",
            "21         Long-term income taxes 7,795 7,514\n",
            "\n",
            "--- Table 4 matches ---\n",
            "                 Cash flows from operating activities\n",
            "0                         Net income $ 12,369 $ 5,709\n",
            "1   Adjustments to reconcile net income to net cas...\n",
            "4                   Deferred income taxes (456) (620)\n",
            "5   Impairment charges for facilities consolidatio...\n",
            "14  Net cash provided by operating activities 19,2...\n",
            "16  Purchases of property and equipment, net (6,40...\n",
            "21  Net cash used in investing activities (8,734) ...\n",
            "23  Taxes paid related to net share settlement of ...\n",
            "28  Net cash used in financing activities (19,767)...\n",
            "30  Net decrease in cash, cash equivalents, and re...\n",
            "\n",
            "--- Table 5 matches ---\n",
            "                         Supplemental cash flow data\n",
            "0        Cash paid for income taxes, net $ 630 $ 405\n",
            "1  Cash paid for interest, net of amounts capital...\n",
            "\n",
            "--- Table 7 matches ---\n",
            "                                        Revenue:  None  None\n",
            "6                 Income (loss) from operations:  None  None\n",
            "9  Total income from operations $ 13,818 $ 7,227  None  None\n",
            "\n",
            "--- Table 8 matches ---\n",
            "                       GAAP revenue $ 36,455 $ 28,645\n",
            "0   Foreign exchange effect on 2024 revenue using ...\n",
            "5   Foreign exchange effect on 2024 advertising re...\n",
            "10  Net cash provided by operating activities $ 19...\n",
            "11  Purchases of property and equipment, net (6,40...\n"
          ]
        }
      ]
    },
    {
      "cell_type": "code",
      "source": [
        "import faiss\n",
        "import numpy as np\n",
        "\n",
        "dimension = embeddings[0].shape[0]\n",
        "index = faiss.IndexFlatL2(dimension)\n",
        "index.add(np.array(embeddings).astype('float32'))\n",
        "\n",
        "\n",
        "query = query\n",
        "query_embedding = embedding_model.encode([query]).astype('float32')\n",
        "\n",
        "top_k = 3\n",
        "D, I = index.search(np.array(query_embedding), top_k)\n",
        "retrieved_chunks = [chunks[i] for i in I[0]]\n",
        "context = \"\\n\".join(retrieved_chunks)\n",
        "import re\n",
        "\n",
        "def remove_newlines(text):\n",
        "\n",
        "    if isinstance(text, list):\n",
        "        text = ' '.join(text)\n",
        "    return text.replace('\\n', ' ')\n",
        "\n",
        "\n",
        "\n",
        "cleaned = remove_newlines(context)\n",
        "print(cleaned)\n",
        "context=cleaned"
      ],
      "metadata": {
        "id": "HWBKuPvrg1xt"
      },
      "execution_count": 128,
      "outputs": []
    },
    {
      "cell_type": "code",
      "source": [
        "results=search_tables_simple(query, tables)"
      ],
      "metadata": {
        "colab": {
          "base_uri": "https://localhost:8080/"
        },
        "id": "i_toLZcacrbs",
        "outputId": "217d3182-ff31-43b0-f7fc-b89939dda378"
      },
      "execution_count": 129,
      "outputs": [
        {
          "output_type": "stream",
          "name": "stdout",
          "text": [
            "Searching for: ['meta’s', 'revenue', '2024']\n",
            "Table 2: 1 matches\n",
            "Table 7: 2 matches\n",
            "Table 8: 9 matches\n"
          ]
        }
      ]
    },
    {
      "cell_type": "markdown",
      "source": [
        "# Model Generation"
      ],
      "metadata": {
        "id": "7RxvJVpMya6s"
      }
    },
    {
      "cell_type": "code",
      "source": [
        "model_name = \"Qwen/Qwen3-0.6B\"\n",
        "\n",
        "\n",
        "prompt = f\" Answer the query: {query} based on, Text context:{context} and Structured data: {results} \"\n",
        "\n",
        "prompt = prompt.replace(\"’\", \"'\")\n",
        "\n",
        "inputs = tokenizer(prompt, return_tensors=\"pt\", padding=True, truncation=True, max_length=512)\n",
        "\n",
        "outputs = model.generate(\n",
        "    **inputs,\n",
        "    max_new_tokens = 130 ,\n",
        "    do_sample=True,\n",
        "    temperature=0.7,\n",
        "    top_p=0.9,\n",
        "    eos_token_id=tokenizer.eos_token_id,\n",
        "    pad_token_id=tokenizer.pad_token_id,\n",
        ")\n",
        "\n",
        "\n",
        "answer = tokenizer.decode(outputs[0], skip_special_tokens=True)\n",
        "\n",
        "\n",
        "print(\"Answer:\", answer)"
      ],
      "metadata": {
        "colab": {
          "base_uri": "https://localhost:8080/"
        },
        "id": "iKT3Aqr4oZXf",
        "outputId": "65bc1c94-4129-4ea2-f195-9b721ad2d2bb"
      },
      "execution_count": 132,
      "outputs": [
        {
          "output_type": "stream",
          "name": "stdout",
          "text": [
            "Answer:  Answer the query: What was Meta's revenue in Q1 2024? based on, Text context and Structured data.Text context:Meta Reports First Quarter 2024 Results MENLO PARK, Calif. – April 24, 2024 – Meta Platforms, Inc. (Nasdaq: META) today reported financial results for the quarter  ended March 31, 2024. \"It's been a good start to the year,\" said Mark Zuckerberg, Meta founder and CEO. \"The new version of Meta AI with Llama 3 is  another step towards building the world's leading AI. We're seeing healthy growth across our apps and we continue making  steady progress building the metaverse as well.\" First Quarter 2024 Financial Highlights Three Months Ended March 31, % Change In millions, except percentages and per share amounts 2024 2023 Revenue $  36,455  $  28,645   27 % Costs and expenses   22,637    21,418   6 % Income from operations $  13,818  $  7,227   91 % Operating margin  38 %  25 % Provision for income taxes $  1,814  $  1,598   14 % Effective tax rate  13 %  22 % Net income $  12,369  $  5,709   117 % Diluted earnings per share (EPS) $  4.71  $  2.20   114 % intended to represent our residual cash flow available for discretionary expenditures.  For more information on our non-GAAP financial measures and a reconciliation of GAAP to non-GAAP measures, please see  the \"Reconciliation of GAAP to Non-GAAP Results\" table in this press release. 4 META PLATFORMS, INC. CONDENSED CONSOLIDATED STATEMENTS OF INCOME (In millions, except per share amounts) (Unaudited) Three Months Ended March 31, 2024 2023 Revenue $  36,455 $  28,645  Costs and expenses: Cost of revenue   22,637   21,418  Gross profit  13,818  7,227  Operating expenses: Depreciation and amortization   2,502  1,452  Selling, general, and administrative expenses   1,738  1,228  Research and development expenses   3,118  3,004  Other expenses and provisions:  1,348  1,283  Total expenses and expenses:  2,502\n"
          ]
        }
      ]
    },
    {
      "cell_type": "code",
      "source": [
        "def get_answer(query):\n",
        "  query=query\n",
        "\n",
        "\n",
        "  query_embedding = embedding_model.encode([query]).astype('float32')\n",
        "\n",
        "  top_k = 3\n",
        "  D, I = index.search(np.array(query_embedding), top_k)\n",
        "  retrieved_chunks = [chunks[i] for i in I[0]]\n",
        "  context = \"\\n\".join(retrieved_chunks)\n",
        "  cleaned = remove_newlines(context)\n",
        "  context=cleaned\n",
        "  results=search_tables_simple(query, tables)\n",
        "  model_name = \"Qwen/Qwen3-0.6B\"\n",
        "\n",
        "\n",
        "  prompt = f\" Answer the query: {query} based on, Text context:{context} and Structured data: {results} \"\n",
        "\n",
        "  prompt = prompt.replace(\"’\", \"'\")\n",
        "\n",
        "  inputs = tokenizer(prompt, return_tensors=\"pt\", padding=True, truncation=True, max_length=512)\n",
        "\n",
        "  outputs = model.generate(\n",
        "    **inputs,\n",
        "    max_new_tokens = 130 ,\n",
        "    do_sample=True,\n",
        "    temperature=0.7,\n",
        "    top_p=0.9,\n",
        "    eos_token_id=tokenizer.eos_token_id,\n",
        "    pad_token_id=tokenizer.pad_token_id,\n",
        ")\n",
        "\n",
        "\n",
        "\n",
        "  answer = tokenizer.decode(outputs[0], skip_special_tokens=True)\n",
        "  if answer.startswith(prompt):\n",
        "    answer_only = answer[len(prompt):].strip()\n",
        "  else:\n",
        "    answer_only = answer.replace(prompt, '', 1).strip()\n",
        "\n",
        "  print(\"Answer:\", answer_only)\n",
        "\n",
        "\n"
      ],
      "metadata": {
        "id": "W9sRu776vv60"
      },
      "execution_count": 146,
      "outputs": []
    },
    {
      "cell_type": "markdown",
      "source": [
        "# Testing the queries"
      ],
      "metadata": {
        "id": "WEyTNvCvyhX9"
      }
    },
    {
      "cell_type": "code",
      "source": [
        "query1='What was Meta’s net income in Q1 2024 compared to Q1 2023?'\n",
        "get_answer(query1)"
      ],
      "metadata": {
        "colab": {
          "base_uri": "https://localhost:8080/"
        },
        "id": "3dUU61E6wtrN",
        "outputId": "ee8edd5f-defc-4b7d-f66e-6168536d1c5a"
      },
      "execution_count": 147,
      "outputs": [
        {
          "output_type": "stream",
          "name": "stdout",
          "text": [
            "Searching for: ['meta’s', 'net', 'income', '2024', '2023']\n",
            "Table 1: 3 matches\n",
            "Table 2: 4 matches\n",
            "Table 3: 3 matches\n",
            "Table 4: 10 matches\n",
            "Table 5: 2 matches\n",
            "Table 7: 2 matches\n",
            "Table 8: 4 matches\n",
            "Answer: Answer the query: What was Meta's net income in Q1 2024 compared to Q1 2023? based on, Text context:Meta Reports First Quarter 2024 Results MENLO PARK, Calif. – April 24, 2024 – Meta Platforms, Inc. (Nasdaq: META) today reported financial results for the quarter  ended March 31, 2024. \"It's been a good start to the year,\" said Mark Zuckerberg, Meta founder and CEO. \"The new version of Meta AI with Llama 3 is  another step towards building the world's leading AI. We're seeing healthy growth across our apps and we continue making  steady progress building the metaverse as well.\" First Quarter 2024 Financial Highlights Three Months Ended March 31, % Change In millions, except percentages and per share amounts 2024 2023 Revenue $  36,455  $  28,645   27 % Costs and expenses   22,637    21,418   6 % Income from operations $  13,818  $  7,227   91 % Operating margin  38 %  25 % Provision for income taxes $  1,814  $  1,598   14 % Effective tax rate  13 %  22 % Net income $  12,369  $  5,709   117 % Diluted earnings per share (EPS) $  4.71  $  2.20   114 % intended to represent our residual cash flow available for discretionary expenditures.  For more information on our non-GAAP financial measures and a reconciliation of GAAP to non-GAAP measures, please see  the \"Reconciliation of GAAP to Non-GAAP Results\" table in this press release. 4 META PLATFORMS, INC. CONDENSED CONSOLIDATED STATEMENTS OF INCOME (In millions, except per share amounts) (Unaudited) Three Months Ended March 31, 2024 2023 Revenue $  36,455 $  28,645  Costs and expenses: Cost of goods sold  22,637  21,418  Selling, general and administrative expenses  21,000  20,755  Research and development expenses  11,000  11,000  Depreciation and amortization  5,000  4,000  Interest and other income and expenses  1,598  1,598  Income from operations  13,818  7,227  Operating margin  3\n"
          ]
        }
      ]
    },
    {
      "cell_type": "code",
      "source": [
        "query2='Summarize Meta’s operating expenses in Q1 2024.'\n",
        "get_answer(query2)"
      ],
      "metadata": {
        "colab": {
          "base_uri": "https://localhost:8080/"
        },
        "id": "EiqKnx1pw-SA",
        "outputId": "5fe0b5f2-0b9d-4ecd-c80a-46a9b69331a9"
      },
      "execution_count": 145,
      "outputs": [
        {
          "output_type": "stream",
          "name": "stdout",
          "text": [
            "Searching for: ['summarize', 'meta’s', 'operating', 'expenses', '2024']\n",
            "Table 1: 2 matches\n",
            "Table 2: 2 matches\n",
            "Table 3: 5 matches\n",
            "Table 4: 5 matches\n",
            "Table 5: 2 matches\n",
            "Table 8: 3 matches\n",
            "Answer: Answer the query: Summarize Meta's operating expenses in Q1 2024. based on, Text context:intended to represent our residual cash flow available for discretionary expenditures.  For more information on our non-GAAP financial measures and a reconciliation of GAAP to non-GAAP measures, please see  the \"Reconciliation of GAAP to Non-GAAP Results\" table in this press release. 4 META PLATFORMS, INC. CONDENSED CONSOLIDATED STATEMENTS OF INCOME (In millions, except per share amounts) (Unaudited) Three Months Ended March 31, 2024 2023 Revenue $  36,455 $  28,645  Costs and expenses: Cost of revenue   6,640   6,108  Research and development   9,978   9,381  Marketing and sales   2,564   3,044  General and administrative   3,455   2,885  Total costs and expenses   22,637   21,418  Income from operations   13,818   7,227  Interest and other income, net   365   80  Income before provision for income taxes   14,183   7,307  Provision for income taxes   1,814   1,598  Net income $  12,369 $  5,709  Earnings per share: Basic $  4.86 $  2.21  Diluted $  4.71 $  2.20 Meta Reports First Quarter 2024 Results MENLO PARK, Calif. – April 24, 2024 – Meta Platforms, Inc. (Nasdaq: META) today reported financial results for the quarter  ended March 31, 2024. \"It's been a good start to the year,\" said Mark Zuckerberg, Meta founder and CEO. \"The new version of Meta AI with Llama 3 is  another step towards building the world's leading AI. We're seeing healthy growth across our apps and we continue making  steady progress building the metaverse as well.\" First Quarter 2024 results include a 100% increase in revenue from the previous year, which is expected to be the best in the company's history. \"We have made a strong start to 2024, with a 20% increase in revenue and a 25% increase in operating expenses,\" said Mark Zuckerberg. \"This is a strong start to the year and we look forward to continuing to build the metaverse.\" The press release also includes a reconciliation of GAAP to non-GAAP financial measures, including the income from operations and net income.  The reconciliation table is available at the end of\n",
            "Answer: Answer the query: Summarize Meta's operating expenses in Q1 2024. based on, Text context:intended to represent our residual cash flow available for discretionary expenditures.  For more information on our non-GAAP financial measures and a reconciliation of GAAP to non-GAAP measures, please see  the \"Reconciliation of GAAP to Non-GAAP Results\" table in this press release. 4 META PLATFORMS, INC. CONDENSED CONSOLIDATED STATEMENTS OF INCOME (In millions, except per share amounts) (Unaudited) Three Months Ended March 31, 2024 2023 Revenue $  36,455 $  28,645  Costs and expenses: Cost of revenue   6,640   6,108  Research and development   9,978   9,381  Marketing and sales   2,564   3,044  General and administrative   3,455   2,885  Total costs and expenses   22,637   21,418  Income from operations   13,818   7,227  Interest and other income, net   365   80  Income before provision for income taxes   14,183   7,307  Provision for income taxes   1,814   1,598  Net income $  12,369 $  5,709  Earnings per share: Basic $  4.86 $  2.21  Diluted $  4.71 $  2.20 Meta Reports First Quarter 2024 Results MENLO PARK, Calif. – April 24, 2024 – Meta Platforms, Inc. (Nasdaq: META) today reported financial results for the quarter  ended March 31, 2024. \"It's been a good start to the year,\" said Mark Zuckerberg, Meta founder and CEO. \"The new version of Meta AI with Llama 3 is  another step towards building the world's leading AI. We're seeing healthy growth across our apps and we continue making  steady progress building the metaverse as well.\" First Quarter 2024 results include a 100% increase in revenue from the previous year, which is expected to be the best in the company's history. \"We have made a strong start to 2024, with a 20% increase in revenue and a 25% increase in operating expenses,\" said Mark Zuckerberg. \"This is a strong start to the year and we look forward to continuing to build the metaverse.\" The press release also includes a reconciliation of GAAP to non-GAAP financial measures, including the income from operations and net income.  The reconciliation table is available at the end of\n"
          ]
        }
      ]
    },
    {
      "cell_type": "code",
      "source": [],
      "metadata": {
        "id": "hg7ijFW2x7YQ"
      },
      "execution_count": null,
      "outputs": []
    }
  ],
  "metadata": {
    "colab": {
      "provenance": [],
      "gpuType": "T4",
      "authorship_tag": "ABX9TyMDTP6WgG3FAz5xjOhXIKuu",
      "include_colab_link": true
    },
    "kernelspec": {
      "display_name": "Python 3",
      "name": "python3"
    },
    "language_info": {
      "name": "python"
    },
    "accelerator": "GPU"
  },
  "nbformat": 4,
  "nbformat_minor": 0
}