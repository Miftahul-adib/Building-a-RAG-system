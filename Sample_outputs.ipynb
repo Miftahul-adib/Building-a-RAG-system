{
  "nbformat": 4,
  "nbformat_minor": 0,
  "metadata": {
    "colab": {
      "provenance": [],
      "authorship_tag": "ABX9TyOs6tm5duDo+0ubtqnGjx6c",
      "include_colab_link": true
    },
    "kernelspec": {
      "name": "python3",
      "display_name": "Python 3"
    },
    "language_info": {
      "name": "python"
    }
  },
  "cells": [
    {
      "cell_type": "markdown",
      "metadata": {
        "id": "view-in-github",
        "colab_type": "text"
      },
      "source": [
        "<a href=\"https://colab.research.google.com/github/Miftahul-adib/Building-a-RAG-system/blob/main/Sample_outputs.ipynb\" target=\"_parent\"><img src=\"https://colab.research.google.com/assets/colab-badge.svg\" alt=\"Open In Colab\"/></a>"
      ]
    },
    {
      "cell_type": "markdown",
      "source": [
        "### Step 1: Basic RAG (Text-based QA)"
      ],
      "metadata": {
        "id": "W7tPEkDdDJof"
      }
    },
    {
      "cell_type": "markdown",
      "source": [
        "query1 ='What was Meta’s net income in Q1 2024 compared to Q1 2023?'\n",
        "\n",
        "output:"
      ],
      "metadata": {
        "id": "0YX_VC8HDjRb"
      }
    },
    {
      "cell_type": "code",
      "source": [
        "\"\"\" Answer:\n",
        "<|response|>\n",
        "$12,369\n",
        "<|response|>\n",
        "The net income of Meta in Q1 2024 was $12,369 compared to $5,709 in Q1 2023.\n",
        "<|response|> \"\"\""
      ],
      "metadata": {
        "id": "syTRFVSCDpmh"
      },
      "execution_count": null,
      "outputs": []
    },
    {
      "cell_type": "markdown",
      "source": [
        "\n",
        "query2='What were the key financial highlights for Meta in Q1 2024?'\n",
        "\n",
        "output:"
      ],
      "metadata": {
        "id": "t0-QxI7bD0EL"
      }
    },
    {
      "cell_type": "code",
      "source": [
        "\"\"\"The key financial highlights for Meta in Q1 2024 were steady progress in building the metaverse as well as significant revenue growth.\n",
        " The company reported revenue of $36,455 million, a 14% increase from the same period in 2023.\n",
        "  This growth was driven by the continued expansion of its metaverse platforms and services.\"\"\""
      ],
      "metadata": {
        "id": "5OhNfe1jD8Q6"
      },
      "execution_count": null,
      "outputs": []
    },
    {
      "cell_type": "markdown",
      "source": [
        "### Step 2:Structured Data Integration"
      ],
      "metadata": {
        "id": "hv5XNQrrECwS"
      }
    },
    {
      "cell_type": "markdown",
      "source": [
        "### Query1='What was Meta’s net income in Q1 2024 compared to Q1 2023?'\n",
        "\n",
        "output:"
      ],
      "metadata": {
        "id": "ZWslqb1MES5J"
      }
    },
    {
      "cell_type": "code",
      "source": [
        "\"\"\" The net income in Q1 2024 compared to Q1 2023 was $12,369 compared to $5,709. '\"\""
      ],
      "metadata": {
        "id": "cFvaQty_EZ-S"
      },
      "execution_count": null,
      "outputs": []
    },
    {
      "cell_type": "markdown",
      "source": [
        "### Query2='Summarize Meta’s operating expenses in Q1 2024.'\n",
        "output:"
      ],
      "metadata": {
        "id": "Jdhsw1xyEsvU"
      }
    },
    {
      "cell_type": "code",
      "source": [
        "\"\"\"Based on the provided text, the operating expenses for Meta in Q1 2024 were $19,246 million.\"\"\""
      ],
      "metadata": {
        "id": "sxDJukf2E44Z"
      },
      "execution_count": null,
      "outputs": []
    }
  ]
}