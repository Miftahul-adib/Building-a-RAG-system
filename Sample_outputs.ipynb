{
  "nbformat": 4,
  "nbformat_minor": 0,
  "metadata": {
    "colab": {
      "provenance": [],
      "authorship_tag": "ABX9TyPv8iKsBNpXzGyl60hMs7wg",
      "include_colab_link": true
    },
    "kernelspec": {
      "name": "python3",
      "display_name": "Python 3"
    },
    "language_info": {
      "name": "python"
    }
  },
  "cells": [
    {
      "cell_type": "markdown",
      "metadata": {
        "id": "view-in-github",
        "colab_type": "text"
      },
      "source": [
        "<a href=\"https://colab.research.google.com/github/Miftahul-adib/Building-a-RAG-system/blob/main/Sample_outputs.ipynb\" target=\"_parent\"><img src=\"https://colab.research.google.com/assets/colab-badge.svg\" alt=\"Open In Colab\"/></a>"
      ]
    },
    {
      "cell_type": "markdown",
      "source": [
        "### Step 1: Basic RAG (Text-based QA)"
      ],
      "metadata": {
        "id": "W7tPEkDdDJof"
      }
    },
    {
      "cell_type": "markdown",
      "source": [
        "Query1='What was Meta’s revenue in Q1 2024?'\n",
        "\n",
        "output:"
      ],
      "metadata": {
        "id": "0YX_VC8HDjRb"
      }
    },
    {
      "cell_type": "code",
      "source": [
        "\"\"\" Meta Reports First Quarter 2024 Results MENLO PARK, Calif. – April 24, 2024 – Meta Platforms, Inc. (Nasdaq: META) today reported financial results for the quarter  ended March 31, 2024. \"It's been a good start to the year,\" said Mark Zuckerberg, Meta founder and CEO. \"The new version of Meta AI with Llama 3 is  another step towards building the world's leading AI. We're seeing healthy growth across our apps and we continue making  steady progress building the metaverse as well.\" First Quarter 2024 Financial Highlights Three Months Ended March 31, % Change In millions, except percentages and per share amounts 2024 2023 Revenue $  36,455  $  28,645   27 % Costs and expenses   22,637    21,418   6 % Income from operations $  13,818  $  7,227   91 % Operating margin  38 %  25 % Provision for income taxes $  1,814  $  1,598   14 % Effective tax rate  13 %  22 % Net income $  12,369  $  5,709   117 % Diluted earnings per share (EPS) $  4.71  $  2.20   114 % intended to represent our residual cash flow available for discretionary expenditures.  For more information on our non-GAAP financial measures and a reconciliation of GAAP to non-GAAP measures, please see  the \"Reconciliation of GAAP to Non-GAAP Results\" table in this press release. 4 META PLATFORMS, INC. CONDENSED CONSOLIDATED STATEMENTS OF INCOME (In millions, except per share amounts) (Unaudited) Three Months Ended March 31, 2024 2023 Revenue $  36,455 $  28,645  Costs and expenses: Cost of revenue   6,640   6,108  Research and development   9,978   9,381  Marketing and sales   2,564   3,044  General and administrative   3,455   2,885  Total costs and expenses   22,637   21,418  Income from operations   13,818   7,227  Interest and other income, net   365   80  Income before provision for income taxes   14,183   7,307  Provision for income taxes   1,814   1,598  Net income $  12,369 $  5,709  Earnings per share: Basic $  4.86 $  2.21  Diluted $  4.71 $  2.20 $  33,284 $  12,420  7 META PLATFORMS, INC. CONDENSED CONSOLIDATED STATEMENTS OF CASH FLOWS (In millions) (Unaudited) Three Months Ended March 31, 2024 2023 Supplemental cash flow data Cash paid for income taxes, net $  630 $  405  Cash paid for interest, net of amounts capitalized $  121 $  182  Non-cash investing and financing activities: Property and equipment in accounts payable and accrued expenses and  other current liabilities $  4,217 $  4,466  Acquisition of businesses in accrued expenses and other current liabilities  and other liabilities $  116 $  263  8 Segment Results We report our financial results for our two reportable segments: Family of Apps (FoA) and Reality Labs (RL). FoA includes  Facebook, Instagram, Messenger, WhatsApp, and other services. RL includes our virtual, augmented, and mixed reality related  consumer hardware, software, and content. The following table presents our segment information of revenue and income (loss) from operations: Segment Information\n",
        "Answer: Based on the following context:\n",
        "Meta Reports First Quarter 2024 Results MENLO PARK, Calif. – April 24, 2024 – Meta Platforms, Inc. (Nasdaq: META) today reported financial results for the quarter  ended March 31, 2024. \"It's been a good start to the year,\" said Mark Zuckerberg, Meta founder and CEO. \"The new version of Meta AI with Llama 3 is  another step towards building the world's leading AI. We're seeing healthy growth across our apps and we continue making  steady progress building the metaverse as well.\" First Quarter 2024 Financial Highlights Three Months Ended March 31, % Change In millions, except percentages and per share amounts 2024 2023 Revenue $  36,455  $  28,645   27 % Costs and expenses   22,637    21,418   6 % Income from operations $  13,818  $  7,227   91 % Operating margin  38 %  25 % Provision for income taxes $  1,814  $  1,598   14 % Effective tax rate  13 %  22 % Net income $  12,369  $  5,709   117 % Diluted earnings per share (EPS) $  4.71  $  2.20   114 % intended to represent our residual cash flow available for discretionary expenditures.  For more information on our non-GAAP financial measures and a reconciliation of GAAP to non-GAAP measures, please see  the \"Reconciliation of GAAP to Non-GAAP Results\" table in this press release. 4 META PLATFORMS, INC. CONDENSED CONSOLIDATED STATEMENTS OF INCOME (In millions, except per share amounts) (Unaudited) Three Months Ended March 31, 2024 2023 Revenue $  36,455 $  28,645  Costs and expenses: Cost of revenue   6,640   6,108  Research and development   9,978   8,412  Selling, general, and administrative  22,500   21,418  Operating income   25,975   18,558  EBITDA   23,472   16,106  Net income from operations   13,818   7,227  EBITDA margin   66.1 %  50.5 %  Net income from operations  $  12,369  $  5,70 \"\"\""
      ],
      "metadata": {
        "id": "syTRFVSCDpmh"
      },
      "execution_count": null,
      "outputs": []
    },
    {
      "cell_type": "markdown",
      "source": [
        "Query2='What were the key financial highlights for Meta in Q1 2024?'\n",
        "\n",
        "output:"
      ],
      "metadata": {
        "id": "t0-QxI7bD0EL"
      }
    },
    {
      "cell_type": "code",
      "source": [
        "\"\"\"Meta Reports First Quarter 2024 Results MENLO PARK, Calif. – April 24, 2024 – Meta Platforms, Inc. (Nasdaq: META) today reported financial results for the quarter  ended March 31, 2024. \"It's been a good start to the year,\" said Mark Zuckerberg, Meta founder and CEO. \"The new version of Meta AI with Llama 3 is  another step towards building the world's leading AI. We're seeing healthy growth across our apps and we continue making  steady progress building the metaverse as well.\" First Quarter 2024 Financial Highlights Three Months Ended March 31, % Change In millions, except percentages and per share amounts 2024 2023 Revenue $  36,455  $  28,645   27 % Costs and expenses   22,637    21,418   6 % Income from operations $  13,818  $  7,227   91 % Operating margin  38 %  25 % Provision for income taxes $  1,814  $  1,598   14 % Effective tax rate  13 %  22 % Net income $  12,369  $  5,709   117 % Diluted earnings per share (EPS) $  4.71  $  2.20   114 % as we invest aggressively to support our ambitious AI research and product development efforts. Absent any changes to our tax landscape, we expect our full-year 2024 tax rate to be in the mid-teens. In addition, we continue to monitor an active regulatory landscape, including the increasing legal and regulatory headwinds in  the EU and the U.S. that could significantly impact our business and our financial results. Q1 was a good start to the year. We're seeing strong momentum within our Family of Apps and are making important progress  on our longer-term AI and Reality Labs initiatives that have the potential to transform the way people interact with our services  over the coming years. 2 Webcast and Conference Call Information Meta will host a conference call to discuss the results at 2:00 p.m. PT / 5:00 p.m. ET today. The live webcast of Meta's earnings the results predicted are more fully detailed under the caption \"Risk Factors\" in our Annual Report on Form 10-K filed with the  SEC on February 2, 2024, which is available on our Investor Relations website at investor.fb.com and on the SEC website at  www.sec.gov. Additional information will also be set forth in our Quarterly Report on Form 10-Q for the quarter ended  March 31, 2024. In addition, please note that the date of this press release is April 24, 2024, and any forward-looking statements  contained herein are based on assumptions that we believe to be reasonable as of this date. We undertake no obligation to update  these statements as a result of new information or future events. For a discussion of limitations in the measurement of certain of our community metrics, see the section entitled \"Limitations of  Key Metrics and Other Data\" in our most recent quarterly or annual report filed with the SEC. Non-GAAP Financial Measures\n",
        "Answer: Based on the following context:\n",
        "Meta Reports First Quarter 2024 Results MENLO PARK, Calif. – April 24, 2024 – Meta Platforms, Inc. (Nasdaq: META) today reported financial results for the quarter  ended March 31, 2024. \"It's been a good start to the year,\" said Mark Zuckerberg, Meta founder and CEO. \"The new version of Meta AI with Llama 3 is  another step towards building the world's leading AI. We're seeing healthy growth across our apps and we continue making  steady progress building the metaverse as well.\" First Quarter 2024 Financial Highlights Three Months Ended March 31, % Change In millions, except percentages and per share amounts 2024 2023 Revenue $  36,455  $  28,645   27 % Costs and expenses   22,637    21,418   6 % Income from operations $  13,818  $  7,227   91 % Operating margin  38 %  25 % Provision for income taxes $  1,814  $  1,598   14 % Effective tax rate  13 %  22 % Net income $  12,369  $  5,709   117 % Diluted earnings per share (EPS) $  4.71  $  2.20   114 % as we invest aggressively to support our ambitious AI research and product development efforts. Absent any changes to our tax landscape, we expect our full-year 2024 tax rate to be in the mid-teens. In addition, we continue to monitor an active regulatory landscape, including the increasing legal and regulatory headwinds in  the EU and the U.S. that could significantly impact our business and our financial results. Q1 was a good start to the year. We're seeing strong momentum within our Family of Apps and are making important progress  on our longer-term AI and Reality Labs initiatives that have the potential to transform the way people interact with our services  over the coming years. 2 Webcast and Conference Call Information Meta will host a conference call to discuss the results at 2:00 PM Eastern Time (ET) on April 24, 2024. The webcast will be available at the following link: https://www.meta.com/external/2024/04/24/240424-1130-1630-2441-2441-2441-2441-2441-2441-2441-2441-2441-2441-2441-2441-2441\"\"\""
      ],
      "metadata": {
        "id": "5OhNfe1jD8Q6"
      },
      "execution_count": null,
      "outputs": []
    },
    {
      "cell_type": "markdown",
      "source": [
        "### STEP 2:Structured Data Integration"
      ],
      "metadata": {
        "id": "hv5XNQrrECwS"
      }
    },
    {
      "cell_type": "markdown",
      "source": [
        "### Query1='What was Meta’s net income in Q1 2024 compared to Q1 2023?'\n",
        "\n",
        "output:"
      ],
      "metadata": {
        "id": "ZWslqb1MES5J"
      }
    },
    {
      "cell_type": "code",
      "source": [
        "\"\"\" Answer the query: What was Meta's net income in Q1 2024 compared to Q1 2023? based on, Text context:Meta Reports First Quarter 2024 Results MENLO PARK, Calif. – April 24, 2024 – Meta Platforms, Inc. (Nasdaq: META) today reported financial results for the quarter  ended March 31, 2024. \"It's been a good start to the year,\" said Mark Zuckerberg, Meta founder and CEO. \"The new version of Meta AI with Llama 3 is  another step towards building the world's leading AI. We're seeing healthy growth across our apps and we continue making  steady progress building the metaverse as well.\" First Quarter 2024 Financial Highlights Three Months Ended March 31, % Change In millions, except percentages and per share amounts 2024 2023 Revenue $  36,455  $  28,645   27 % Costs and expenses   22,637    21,418   6 % Income from operations $  13,818  $  7,227   91 % Operating margin  38 %  25 % Provision for income taxes $  1,814  $  1,598   14 % Effective tax rate  13 %  22 % Net income $  12,369  $  5,709   117 % Diluted earnings per share (EPS) $  4.71  $  2.20   114 % intended to represent our residual cash flow available for discretionary expenditures.  For more information on our non-GAAP financial measures and a reconciliation of GAAP to non-GAAP measures, please see  the \"Reconciliation of GAAP to Non-GAAP Results\" table in this press release. 4 META PLATFORMS, INC. CONDENSED CONSOLIDATED STATEMENTS OF INCOME (In millions, except per share amounts) (Unaudited) Three Months Ended March 31, 2024 2023 Revenue $  36,455 $  28,645  Costs and expenses: Cost of goods sold  22,637  21,418  Selling, general and administrative expenses  21,000  20,755  Research and development expenses  11,000  11,000  Depreciation and amortization  5,000  4,000  Interest and other income and expenses  1,598  1,598  Income from operations  13,818  7,227  Operating margin  3\"\"\""
      ],
      "metadata": {
        "id": "cFvaQty_EZ-S"
      },
      "execution_count": null,
      "outputs": []
    },
    {
      "cell_type": "markdown",
      "source": [
        "### Query2='Summarize Meta’s operating expenses in Q1 2024.'\n",
        "output:"
      ],
      "metadata": {
        "id": "Jdhsw1xyEsvU"
      }
    },
    {
      "cell_type": "code",
      "source": [
        "\"\"\"Answer the query: Summarize Meta's operating expenses in Q1 2024. based on, Text context:intended to represent our residual cash flow available for discretionary expenditures.  For more information on our non-GAAP financial measures and a reconciliation of GAAP to non-GAAP measures, please see  the \"Reconciliation of GAAP to Non-GAAP Results\" table in this press release. 4 META PLATFORMS, INC. CONDENSED CONSOLIDATED STATEMENTS OF INCOME (In millions, except per share amounts) (Unaudited) Three Months Ended March 31, 2024 2023 Revenue $  36,455 $  28,645  Costs and expenses: Cost of revenue   6,640   6,108  Research and development   9,978   9,381  Marketing and sales   2,564   3,044  General and administrative   3,455   2,885  Total costs and expenses   22,637   21,418  Income from operations   13,818   7,227  Interest and other income, net   365   80  Income before provision for income taxes   14,183   7,307  Provision for income taxes   1,814   1,598  Net income $  12,369 $  5,709  Earnings per share: Basic $  4.86 $  2.21  Diluted $  4.71 $  2.20 Meta Reports First Quarter 2024 Results MENLO PARK, Calif. – April 24, 2024 – Meta Platforms, Inc. (Nasdaq: META) today reported financial results for the quarter  ended March 31, 2024. \"It's been a good start to the year,\" said Mark Zuckerberg, Meta founder and CEO. \"The new version of Meta AI with Llama 3 is  another step towards building the world's leading AI. We're seeing healthy growth across our apps and we continue making  steady progress building the metaverse as well.\" First Quarter 2024 results include a 100% increase in revenue from the previous year, which is expected to be the best in the company's history. \"We have made a strong start to 2024, with a 20% increase in revenue and a 25% increase in operating expenses,\" said Mark Zuckerberg. \"This is a strong start to the year and we look forward to continuing to build the metaverse.\" The press release also includes a reconciliation of GAAP to non-GAAP financial measures, including the income from operations and net income.  The reconciliation table is available at the end of\"\"\""
      ],
      "metadata": {
        "id": "sxDJukf2E44Z"
      },
      "execution_count": null,
      "outputs": []
    }
  ]
}